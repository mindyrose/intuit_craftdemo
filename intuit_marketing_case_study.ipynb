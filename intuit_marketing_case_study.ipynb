{
 "cells": [
  {
   "cell_type": "code",
   "execution_count": 132,
   "metadata": {},
   "outputs": [],
   "source": [
    "import pandas as pd\n",
    "import numpy as np\n"
   ]
  },
  {
   "cell_type": "code",
   "execution_count": 133,
   "metadata": {},
   "outputs": [
    {
     "data": {
      "text/html": [
       "<div>\n",
       "<style scoped>\n",
       "    .dataframe tbody tr th:only-of-type {\n",
       "        vertical-align: middle;\n",
       "    }\n",
       "\n",
       "    .dataframe tbody tr th {\n",
       "        vertical-align: top;\n",
       "    }\n",
       "\n",
       "    .dataframe thead th {\n",
       "        text-align: right;\n",
       "    }\n",
       "</style>\n",
       "<table border=\"1\" class=\"dataframe\">\n",
       "  <thead>\n",
       "    <tr style=\"text-align: right;\">\n",
       "      <th></th>\n",
       "      <th>Tax Year</th>\n",
       "      <th>Login Date</th>\n",
       "      <th>Completed_Product</th>\n",
       "      <th>Marketing_Channel</th>\n",
       "      <th>CUSTOMER_TYPE</th>\n",
       "      <th>Login_Flag</th>\n",
       "      <th>Completed_bool</th>\n",
       "      <th>Completed</th>\n",
       "      <th>Session_Count</th>\n",
       "      <th>Price</th>\n",
       "      <th>customer_type</th>\n",
       "      <th>Login_month</th>\n",
       "      <th>Product + Price</th>\n",
       "      <th>Month</th>\n",
       "    </tr>\n",
       "  </thead>\n",
       "  <tbody>\n",
       "    <tr>\n",
       "      <th>0</th>\n",
       "      <td>TY13</td>\n",
       "      <td>12/31/2013</td>\n",
       "      <td>(null)</td>\n",
       "      <td>Paid Search</td>\n",
       "      <td>(null)</td>\n",
       "      <td>1</td>\n",
       "      <td>False</td>\n",
       "      <td>Incomplete</td>\n",
       "      <td>(null)</td>\n",
       "      <td>(null)</td>\n",
       "      <td>Incomplete</td>\n",
       "      <td>12/1/2013</td>\n",
       "      <td>(null) ($(null))</td>\n",
       "      <td>12</td>\n",
       "    </tr>\n",
       "    <tr>\n",
       "      <th>1</th>\n",
       "      <td>TY13</td>\n",
       "      <td>12/31/2013</td>\n",
       "      <td>Premier</td>\n",
       "      <td>Organic Search</td>\n",
       "      <td>New</td>\n",
       "      <td>1</td>\n",
       "      <td>True</td>\n",
       "      <td>Completed Taxes</td>\n",
       "      <td>0</td>\n",
       "      <td>$59.99</td>\n",
       "      <td>New</td>\n",
       "      <td>12/1/2013</td>\n",
       "      <td>Premier ($59.99)</td>\n",
       "      <td>12</td>\n",
       "    </tr>\n",
       "    <tr>\n",
       "      <th>2</th>\n",
       "      <td>TY13</td>\n",
       "      <td>1/2/2014</td>\n",
       "      <td>Deluxe</td>\n",
       "      <td>Organic Search</td>\n",
       "      <td>New</td>\n",
       "      <td>1</td>\n",
       "      <td>True</td>\n",
       "      <td>Completed Taxes</td>\n",
       "      <td>0</td>\n",
       "      <td>$39.99</td>\n",
       "      <td>New</td>\n",
       "      <td>1/1/2014</td>\n",
       "      <td>Deluxe ($39.99)</td>\n",
       "      <td>1</td>\n",
       "    </tr>\n",
       "    <tr>\n",
       "      <th>3</th>\n",
       "      <td>TY13</td>\n",
       "      <td>1/2/2014</td>\n",
       "      <td>Free</td>\n",
       "      <td>Non-Campaign</td>\n",
       "      <td>New</td>\n",
       "      <td>1</td>\n",
       "      <td>True</td>\n",
       "      <td>Completed Taxes</td>\n",
       "      <td>0</td>\n",
       "      <td>$0.00</td>\n",
       "      <td>New</td>\n",
       "      <td>1/1/2014</td>\n",
       "      <td>Free ($0)</td>\n",
       "      <td>1</td>\n",
       "    </tr>\n",
       "    <tr>\n",
       "      <th>4</th>\n",
       "      <td>TY13</td>\n",
       "      <td>1/4/2014</td>\n",
       "      <td>Premier</td>\n",
       "      <td>Non-Campaign</td>\n",
       "      <td>New</td>\n",
       "      <td>1</td>\n",
       "      <td>True</td>\n",
       "      <td>Completed Taxes</td>\n",
       "      <td>0</td>\n",
       "      <td>$59.99</td>\n",
       "      <td>New</td>\n",
       "      <td>1/1/2014</td>\n",
       "      <td>Premier ($59.99)</td>\n",
       "      <td>1</td>\n",
       "    </tr>\n",
       "  </tbody>\n",
       "</table>\n",
       "</div>"
      ],
      "text/plain": [
       "  Tax Year  Login Date Completed_Product Marketing_Channel CUSTOMER_TYPE  \\\n",
       "0     TY13  12/31/2013            (null)       Paid Search        (null)   \n",
       "1     TY13  12/31/2013           Premier    Organic Search           New   \n",
       "2     TY13    1/2/2014            Deluxe    Organic Search           New   \n",
       "3     TY13    1/2/2014              Free      Non-Campaign           New   \n",
       "4     TY13    1/4/2014           Premier      Non-Campaign           New   \n",
       "\n",
       "   Login_Flag  Completed_bool        Completed Session_Count   Price  \\\n",
       "0           1           False       Incomplete        (null)  (null)   \n",
       "1           1            True  Completed Taxes             0  $59.99   \n",
       "2           1            True  Completed Taxes             0  $39.99   \n",
       "3           1            True  Completed Taxes             0   $0.00   \n",
       "4           1            True  Completed Taxes             0  $59.99   \n",
       "\n",
       "  customer_type Login_month   Product + Price  Month  \n",
       "0    Incomplete   12/1/2013  (null) ($(null))     12  \n",
       "1           New   12/1/2013  Premier ($59.99)     12  \n",
       "2           New    1/1/2014   Deluxe ($39.99)      1  \n",
       "3           New    1/1/2014         Free ($0)      1  \n",
       "4           New    1/1/2014  Premier ($59.99)      1  "
      ]
     },
     "execution_count": 133,
     "metadata": {},
     "output_type": "execute_result"
    }
   ],
   "source": [
    "df = pd.read_csv('intuit_craft_data_marketing.csv')\n",
    "df.head()"
   ]
  },
  {
   "cell_type": "code",
   "execution_count": 134,
   "metadata": {},
   "outputs": [
    {
     "data": {
      "text/plain": [
       "Tax Year             object\n",
       "Login Date           object\n",
       "Completed_Product    object\n",
       "Marketing_Channel    object\n",
       "CUSTOMER_TYPE        object\n",
       "Login_Flag            int64\n",
       "Completed_bool         bool\n",
       "Completed            object\n",
       "Session_Count        object\n",
       "Price                object\n",
       "customer_type        object\n",
       "Login_month          object\n",
       "Product + Price      object\n",
       "Month                 int64\n",
       "dtype: object"
      ]
     },
     "execution_count": 134,
     "metadata": {},
     "output_type": "execute_result"
    }
   ],
   "source": [
    "df.dtypes"
   ]
  },
  {
   "cell_type": "code",
   "execution_count": 135,
   "metadata": {},
   "outputs": [
    {
     "data": {
      "text/plain": [
       "(2000, 14)"
      ]
     },
     "execution_count": 135,
     "metadata": {},
     "output_type": "execute_result"
    }
   ],
   "source": [
    "df.shape"
   ]
  },
  {
   "cell_type": "code",
   "execution_count": 136,
   "metadata": {},
   "outputs": [],
   "source": [
    "df1 = df.drop(columns=['CUSTOMER_TYPE', 'Completed', 'Login_month', 'Product + Price'])\n"
   ]
  },
  {
   "cell_type": "code",
   "execution_count": 137,
   "metadata": {},
   "outputs": [],
   "source": [
    "df1 = df1.rename(columns={\"Completed_bool\":\"completed\"})"
   ]
  },
  {
   "cell_type": "code",
   "execution_count": 138,
   "metadata": {},
   "outputs": [],
   "source": [
    "from sklearn import preprocessing\n",
    "import matplotlib.pyplot as plt \n",
    "plt.rc(\"font\", size=14)\n",
    "from sklearn.linear_model import LogisticRegression\n",
    "from sklearn.model_selection import train_test_split\n",
    "import seaborn as sns\n",
    "sns.set(style=\"white\")\n",
    "sns.set(style=\"whitegrid\", color_codes=True)"
   ]
  },
  {
   "cell_type": "code",
   "execution_count": 139,
   "metadata": {},
   "outputs": [
    {
     "data": {
      "text/plain": [
       "Index(['Tax Year', 'Login Date', 'Completed_Product', 'Marketing_Channel',\n",
       "       'Login_Flag', 'completed', 'Session_Count', 'Price', 'customer_type',\n",
       "       'Month'],\n",
       "      dtype='object')"
      ]
     },
     "execution_count": 139,
     "metadata": {},
     "output_type": "execute_result"
    }
   ],
   "source": [
    "df1.columns"
   ]
  },
  {
   "cell_type": "code",
   "execution_count": 140,
   "metadata": {},
   "outputs": [],
   "source": [
    "from datetime import datetime \n",
    "\n",
    "df1['Login Date'] = df1['Login Date'].apply(lambda x: datetime.strptime(x, '%m/%d/%Y'))\n"
   ]
  },
  {
   "cell_type": "code",
   "execution_count": 141,
   "metadata": {},
   "outputs": [
    {
     "data": {
      "text/plain": [
       "Month\n",
       "1     237\n",
       "2     811\n",
       "3     483\n",
       "4     467\n",
       "12      2\n",
       "dtype: int64"
      ]
     },
     "execution_count": 141,
     "metadata": {},
     "output_type": "execute_result"
    }
   ],
   "source": [
    "import datetime as dt\n",
    "\n",
    "df1['Month'] = df1['Login Date'].dt.month\n",
    "df1['Year'] = df1['Login Date'].dt.year\n",
    "df1['DayOfMonth'] = df1['Login Date'].dt.day\n",
    "df1['Weekday'] = df1['Login Date'].dt.weekday_name\n",
    "\n",
    "\n",
    "df.groupby(['Month']).size()"
   ]
  },
  {
   "cell_type": "code",
   "execution_count": 142,
   "metadata": {},
   "outputs": [
    {
     "data": {
      "text/html": [
       "<div>\n",
       "<style scoped>\n",
       "    .dataframe tbody tr th:only-of-type {\n",
       "        vertical-align: middle;\n",
       "    }\n",
       "\n",
       "    .dataframe tbody tr th {\n",
       "        vertical-align: top;\n",
       "    }\n",
       "\n",
       "    .dataframe thead th {\n",
       "        text-align: right;\n",
       "    }\n",
       "</style>\n",
       "<table border=\"1\" class=\"dataframe\">\n",
       "  <thead>\n",
       "    <tr style=\"text-align: right;\">\n",
       "      <th></th>\n",
       "      <th>Login_Flag</th>\n",
       "      <th>completed</th>\n",
       "      <th>Month</th>\n",
       "      <th>Year</th>\n",
       "      <th>DayOfMonth</th>\n",
       "    </tr>\n",
       "    <tr>\n",
       "      <th>customer_type</th>\n",
       "      <th></th>\n",
       "      <th></th>\n",
       "      <th></th>\n",
       "      <th></th>\n",
       "      <th></th>\n",
       "    </tr>\n",
       "  </thead>\n",
       "  <tbody>\n",
       "    <tr>\n",
       "      <th>Incomplete</th>\n",
       "      <td>1.0</td>\n",
       "      <td>False</td>\n",
       "      <td>2.646341</td>\n",
       "      <td>2014.280488</td>\n",
       "      <td>14.853659</td>\n",
       "    </tr>\n",
       "    <tr>\n",
       "      <th>New</th>\n",
       "      <td>1.0</td>\n",
       "      <td>True</td>\n",
       "      <td>2.000000</td>\n",
       "      <td>2014.640000</td>\n",
       "      <td>13.576000</td>\n",
       "    </tr>\n",
       "    <tr>\n",
       "      <th>Veteran</th>\n",
       "      <td>1.0</td>\n",
       "      <td>True</td>\n",
       "      <td>2.638655</td>\n",
       "      <td>2014.533937</td>\n",
       "      <td>14.638009</td>\n",
       "    </tr>\n",
       "  </tbody>\n",
       "</table>\n",
       "</div>"
      ],
      "text/plain": [
       "               Login_Flag  completed     Month         Year  DayOfMonth\n",
       "customer_type                                                          \n",
       "Incomplete            1.0      False  2.646341  2014.280488   14.853659\n",
       "New                   1.0       True  2.000000  2014.640000   13.576000\n",
       "Veteran               1.0       True  2.638655  2014.533937   14.638009"
      ]
     },
     "execution_count": 142,
     "metadata": {},
     "output_type": "execute_result"
    }
   ],
   "source": [
    "df1.groupby('customer_type').mean()"
   ]
  },
  {
   "cell_type": "code",
   "execution_count": 143,
   "metadata": {},
   "outputs": [],
   "source": [
    "df1['Price'] = df1['Price'].apply(lambda x: x.strip('$')).apply(lambda x: x.replace('(null)', ''))"
   ]
  },
  {
   "cell_type": "code",
   "execution_count": 144,
   "metadata": {},
   "outputs": [],
   "source": [
    "df1['Price'] = df1['Price'].apply(pd.to_numeric)"
   ]
  },
  {
   "cell_type": "code",
   "execution_count": 145,
   "metadata": {},
   "outputs": [
    {
     "data": {
      "text/plain": [
       "Tax Year                     object\n",
       "Login Date           datetime64[ns]\n",
       "Completed_Product            object\n",
       "Marketing_Channel            object\n",
       "Login_Flag                    int64\n",
       "completed                      bool\n",
       "Session_Count                object\n",
       "Price                       float64\n",
       "customer_type                object\n",
       "Month                         int64\n",
       "Year                          int64\n",
       "DayOfMonth                    int64\n",
       "Weekday                      object\n",
       "dtype: object"
      ]
     },
     "execution_count": 145,
     "metadata": {},
     "output_type": "execute_result"
    }
   ],
   "source": [
    "df1 = df1.apply(lambda x: x.replace('(null)', ''))\n",
    "df1.dtypes"
   ]
  },
  {
   "cell_type": "code",
   "execution_count": 146,
   "metadata": {},
   "outputs": [],
   "source": [
    "df1['Session_Count'] = df1['Session_Count'].apply(pd.to_numeric)"
   ]
  },
  {
   "cell_type": "code",
   "execution_count": 147,
   "metadata": {},
   "outputs": [
    {
     "data": {
      "text/plain": [
       "Tax Year                     object\n",
       "Login Date           datetime64[ns]\n",
       "Completed_Product            object\n",
       "Marketing_Channel            object\n",
       "Login_Flag                    int64\n",
       "completed                      bool\n",
       "Session_Count               float64\n",
       "Price                       float64\n",
       "customer_type                object\n",
       "Month                         int64\n",
       "Year                          int64\n",
       "DayOfMonth                    int64\n",
       "Weekday                      object\n",
       "dtype: object"
      ]
     },
     "execution_count": 147,
     "metadata": {},
     "output_type": "execute_result"
    }
   ],
   "source": [
    "df1.dtypes"
   ]
  },
  {
   "cell_type": "code",
   "execution_count": 148,
   "metadata": {},
   "outputs": [
    {
     "data": {
      "text/html": [
       "<div>\n",
       "<style scoped>\n",
       "    .dataframe tbody tr th:only-of-type {\n",
       "        vertical-align: middle;\n",
       "    }\n",
       "\n",
       "    .dataframe tbody tr th {\n",
       "        vertical-align: top;\n",
       "    }\n",
       "\n",
       "    .dataframe thead th {\n",
       "        text-align: right;\n",
       "    }\n",
       "</style>\n",
       "<table border=\"1\" class=\"dataframe\">\n",
       "  <thead>\n",
       "    <tr style=\"text-align: right;\">\n",
       "      <th></th>\n",
       "      <th>Login_Flag</th>\n",
       "      <th>Session_Count</th>\n",
       "      <th>Price</th>\n",
       "      <th>Month</th>\n",
       "      <th>Year</th>\n",
       "      <th>DayOfMonth</th>\n",
       "    </tr>\n",
       "    <tr>\n",
       "      <th>completed</th>\n",
       "      <th></th>\n",
       "      <th></th>\n",
       "      <th></th>\n",
       "      <th></th>\n",
       "      <th></th>\n",
       "      <th></th>\n",
       "    </tr>\n",
       "  </thead>\n",
       "  <tbody>\n",
       "    <tr>\n",
       "      <th>False</th>\n",
       "      <td>1.0</td>\n",
       "      <td>0.919847</td>\n",
       "      <td>NaN</td>\n",
       "      <td>2.646341</td>\n",
       "      <td>2014.280488</td>\n",
       "      <td>14.853659</td>\n",
       "    </tr>\n",
       "    <tr>\n",
       "      <th>True</th>\n",
       "      <td>1.0</td>\n",
       "      <td>2.424848</td>\n",
       "      <td>23.846477</td>\n",
       "      <td>2.590909</td>\n",
       "      <td>2014.541866</td>\n",
       "      <td>14.558612</td>\n",
       "    </tr>\n",
       "  </tbody>\n",
       "</table>\n",
       "</div>"
      ],
      "text/plain": [
       "           Login_Flag  Session_Count      Price     Month         Year  \\\n",
       "completed                                                                \n",
       "False             1.0       0.919847        NaN  2.646341  2014.280488   \n",
       "True              1.0       2.424848  23.846477  2.590909  2014.541866   \n",
       "\n",
       "           DayOfMonth  \n",
       "completed              \n",
       "False       14.853659  \n",
       "True        14.558612  "
      ]
     },
     "execution_count": 148,
     "metadata": {},
     "output_type": "execute_result"
    }
   ],
   "source": [
    "df1.groupby('completed').mean()"
   ]
  },
  {
   "cell_type": "code",
   "execution_count": 149,
   "metadata": {},
   "outputs": [
    {
     "data": {
      "text/html": [
       "<div>\n",
       "<style scoped>\n",
       "    .dataframe tbody tr th:only-of-type {\n",
       "        vertical-align: middle;\n",
       "    }\n",
       "\n",
       "    .dataframe tbody tr th {\n",
       "        vertical-align: top;\n",
       "    }\n",
       "\n",
       "    .dataframe thead th {\n",
       "        text-align: right;\n",
       "    }\n",
       "</style>\n",
       "<table border=\"1\" class=\"dataframe\">\n",
       "  <thead>\n",
       "    <tr style=\"text-align: right;\">\n",
       "      <th></th>\n",
       "      <th>Login_Flag</th>\n",
       "      <th>completed</th>\n",
       "      <th>Session_Count</th>\n",
       "      <th>Price</th>\n",
       "      <th>Month</th>\n",
       "      <th>Year</th>\n",
       "      <th>DayOfMonth</th>\n",
       "    </tr>\n",
       "    <tr>\n",
       "      <th>customer_type</th>\n",
       "      <th></th>\n",
       "      <th></th>\n",
       "      <th></th>\n",
       "      <th></th>\n",
       "      <th></th>\n",
       "      <th></th>\n",
       "      <th></th>\n",
       "    </tr>\n",
       "  </thead>\n",
       "  <tbody>\n",
       "    <tr>\n",
       "      <th>Incomplete</th>\n",
       "      <td>1.0</td>\n",
       "      <td>False</td>\n",
       "      <td>0.919847</td>\n",
       "      <td>NaN</td>\n",
       "      <td>2.646341</td>\n",
       "      <td>2014.280488</td>\n",
       "      <td>14.853659</td>\n",
       "    </tr>\n",
       "    <tr>\n",
       "      <th>New</th>\n",
       "      <td>1.0</td>\n",
       "      <td>True</td>\n",
       "      <td>2.016129</td>\n",
       "      <td>13.916160</td>\n",
       "      <td>2.000000</td>\n",
       "      <td>2014.640000</td>\n",
       "      <td>13.576000</td>\n",
       "    </tr>\n",
       "    <tr>\n",
       "      <th>Veteran</th>\n",
       "      <td>1.0</td>\n",
       "      <td>True</td>\n",
       "      <td>2.458060</td>\n",
       "      <td>24.648862</td>\n",
       "      <td>2.638655</td>\n",
       "      <td>2014.533937</td>\n",
       "      <td>14.638009</td>\n",
       "    </tr>\n",
       "  </tbody>\n",
       "</table>\n",
       "</div>"
      ],
      "text/plain": [
       "               Login_Flag  completed  Session_Count      Price     Month  \\\n",
       "customer_type                                                              \n",
       "Incomplete            1.0      False       0.919847        NaN  2.646341   \n",
       "New                   1.0       True       2.016129  13.916160  2.000000   \n",
       "Veteran               1.0       True       2.458060  24.648862  2.638655   \n",
       "\n",
       "                      Year  DayOfMonth  \n",
       "customer_type                           \n",
       "Incomplete     2014.280488   14.853659  \n",
       "New            2014.640000   13.576000  \n",
       "Veteran        2014.533937   14.638009  "
      ]
     },
     "execution_count": 149,
     "metadata": {},
     "output_type": "execute_result"
    }
   ],
   "source": [
    "df1.groupby('customer_type').mean()"
   ]
  },
  {
   "cell_type": "code",
   "execution_count": 150,
   "metadata": {},
   "outputs": [
    {
     "data": {
      "text/html": [
       "<div>\n",
       "<style scoped>\n",
       "    .dataframe tbody tr th:only-of-type {\n",
       "        vertical-align: middle;\n",
       "    }\n",
       "\n",
       "    .dataframe tbody tr th {\n",
       "        vertical-align: top;\n",
       "    }\n",
       "\n",
       "    .dataframe thead th {\n",
       "        text-align: right;\n",
       "    }\n",
       "</style>\n",
       "<table border=\"1\" class=\"dataframe\">\n",
       "  <thead>\n",
       "    <tr style=\"text-align: right;\">\n",
       "      <th></th>\n",
       "      <th>Login_Flag</th>\n",
       "      <th>completed</th>\n",
       "      <th>Session_Count</th>\n",
       "      <th>Price</th>\n",
       "      <th>Month</th>\n",
       "      <th>Year</th>\n",
       "      <th>DayOfMonth</th>\n",
       "    </tr>\n",
       "    <tr>\n",
       "      <th>Marketing_Channel</th>\n",
       "      <th></th>\n",
       "      <th></th>\n",
       "      <th></th>\n",
       "      <th></th>\n",
       "      <th></th>\n",
       "      <th></th>\n",
       "      <th></th>\n",
       "    </tr>\n",
       "  </thead>\n",
       "  <tbody>\n",
       "    <tr>\n",
       "      <th>Affiliate</th>\n",
       "      <td>1.0</td>\n",
       "      <td>0.787500</td>\n",
       "      <td>1.691176</td>\n",
       "      <td>13.330317</td>\n",
       "      <td>2.787500</td>\n",
       "      <td>2014.550000</td>\n",
       "      <td>14.875000</td>\n",
       "    </tr>\n",
       "    <tr>\n",
       "      <th>DR</th>\n",
       "      <td>1.0</td>\n",
       "      <td>0.839344</td>\n",
       "      <td>2.489583</td>\n",
       "      <td>28.196953</td>\n",
       "      <td>2.632787</td>\n",
       "      <td>2014.557377</td>\n",
       "      <td>14.072131</td>\n",
       "    </tr>\n",
       "    <tr>\n",
       "      <th>Display</th>\n",
       "      <td>1.0</td>\n",
       "      <td>0.838710</td>\n",
       "      <td>2.222222</td>\n",
       "      <td>23.072692</td>\n",
       "      <td>2.354839</td>\n",
       "      <td>2014.580645</td>\n",
       "      <td>16.290323</td>\n",
       "    </tr>\n",
       "    <tr>\n",
       "      <th>FI Channel</th>\n",
       "      <td>1.0</td>\n",
       "      <td>0.966667</td>\n",
       "      <td>2.700000</td>\n",
       "      <td>27.350230</td>\n",
       "      <td>2.666667</td>\n",
       "      <td>2014.588889</td>\n",
       "      <td>13.833333</td>\n",
       "    </tr>\n",
       "    <tr>\n",
       "      <th>Internal</th>\n",
       "      <td>1.0</td>\n",
       "      <td>0.500000</td>\n",
       "      <td>0.500000</td>\n",
       "      <td>0.000000</td>\n",
       "      <td>2.500000</td>\n",
       "      <td>2014.000000</td>\n",
       "      <td>10.500000</td>\n",
       "    </tr>\n",
       "    <tr>\n",
       "      <th>Non-Campaign</th>\n",
       "      <td>1.0</td>\n",
       "      <td>0.786087</td>\n",
       "      <td>2.102703</td>\n",
       "      <td>25.348695</td>\n",
       "      <td>2.556522</td>\n",
       "      <td>2014.466087</td>\n",
       "      <td>15.092174</td>\n",
       "    </tr>\n",
       "    <tr>\n",
       "      <th>Organic Search</th>\n",
       "      <td>1.0</td>\n",
       "      <td>0.846914</td>\n",
       "      <td>2.241645</td>\n",
       "      <td>23.143265</td>\n",
       "      <td>2.612346</td>\n",
       "      <td>2014.486420</td>\n",
       "      <td>14.474074</td>\n",
       "    </tr>\n",
       "    <tr>\n",
       "      <th>Other</th>\n",
       "      <td>1.0</td>\n",
       "      <td>0.625000</td>\n",
       "      <td>0.571429</td>\n",
       "      <td>19.998000</td>\n",
       "      <td>3.000000</td>\n",
       "      <td>2014.875000</td>\n",
       "      <td>14.625000</td>\n",
       "    </tr>\n",
       "    <tr>\n",
       "      <th>Paid Search</th>\n",
       "      <td>1.0</td>\n",
       "      <td>0.871032</td>\n",
       "      <td>2.187243</td>\n",
       "      <td>21.271025</td>\n",
       "      <td>2.587302</td>\n",
       "      <td>2014.478175</td>\n",
       "      <td>14.492063</td>\n",
       "    </tr>\n",
       "  </tbody>\n",
       "</table>\n",
       "</div>"
      ],
      "text/plain": [
       "                   Login_Flag  completed  Session_Count      Price     Month  \\\n",
       "Marketing_Channel                                                              \n",
       "Affiliate                 1.0   0.787500       1.691176  13.330317  2.787500   \n",
       "DR                        1.0   0.839344       2.489583  28.196953  2.632787   \n",
       "Display                   1.0   0.838710       2.222222  23.072692  2.354839   \n",
       "FI Channel                1.0   0.966667       2.700000  27.350230  2.666667   \n",
       "Internal                  1.0   0.500000       0.500000   0.000000  2.500000   \n",
       "Non-Campaign              1.0   0.786087       2.102703  25.348695  2.556522   \n",
       "Organic Search            1.0   0.846914       2.241645  23.143265  2.612346   \n",
       "Other                     1.0   0.625000       0.571429  19.998000  3.000000   \n",
       "Paid Search               1.0   0.871032       2.187243  21.271025  2.587302   \n",
       "\n",
       "                          Year  DayOfMonth  \n",
       "Marketing_Channel                           \n",
       "Affiliate          2014.550000   14.875000  \n",
       "DR                 2014.557377   14.072131  \n",
       "Display            2014.580645   16.290323  \n",
       "FI Channel         2014.588889   13.833333  \n",
       "Internal           2014.000000   10.500000  \n",
       "Non-Campaign       2014.466087   15.092174  \n",
       "Organic Search     2014.486420   14.474074  \n",
       "Other              2014.875000   14.625000  \n",
       "Paid Search        2014.478175   14.492063  "
      ]
     },
     "execution_count": 150,
     "metadata": {},
     "output_type": "execute_result"
    }
   ],
   "source": [
    "df1.groupby('Marketing_Channel').mean()"
   ]
  },
  {
   "cell_type": "code",
   "execution_count": 151,
   "metadata": {},
   "outputs": [
    {
     "data": {
      "text/html": [
       "<div>\n",
       "<style scoped>\n",
       "    .dataframe tbody tr th:only-of-type {\n",
       "        vertical-align: middle;\n",
       "    }\n",
       "\n",
       "    .dataframe tbody tr th {\n",
       "        vertical-align: top;\n",
       "    }\n",
       "\n",
       "    .dataframe thead th {\n",
       "        text-align: right;\n",
       "    }\n",
       "</style>\n",
       "<table border=\"1\" class=\"dataframe\">\n",
       "  <thead>\n",
       "    <tr style=\"text-align: right;\">\n",
       "      <th></th>\n",
       "      <th>Login_Flag</th>\n",
       "      <th>completed</th>\n",
       "      <th>Session_Count</th>\n",
       "      <th>Price</th>\n",
       "      <th>Month</th>\n",
       "      <th>Year</th>\n",
       "      <th>DayOfMonth</th>\n",
       "    </tr>\n",
       "    <tr>\n",
       "      <th>Completed_Product</th>\n",
       "      <th></th>\n",
       "      <th></th>\n",
       "      <th></th>\n",
       "      <th></th>\n",
       "      <th></th>\n",
       "      <th></th>\n",
       "      <th></th>\n",
       "    </tr>\n",
       "  </thead>\n",
       "  <tbody>\n",
       "    <tr>\n",
       "      <th></th>\n",
       "      <td>1.0</td>\n",
       "      <td>False</td>\n",
       "      <td>0.919847</td>\n",
       "      <td>NaN</td>\n",
       "      <td>2.646341</td>\n",
       "      <td>2014.280488</td>\n",
       "      <td>14.853659</td>\n",
       "    </tr>\n",
       "    <tr>\n",
       "      <th>Deluxe</th>\n",
       "      <td>1.0</td>\n",
       "      <td>True</td>\n",
       "      <td>2.265823</td>\n",
       "      <td>34.77125</td>\n",
       "      <td>2.517187</td>\n",
       "      <td>2014.568750</td>\n",
       "      <td>14.371875</td>\n",
       "    </tr>\n",
       "    <tr>\n",
       "      <th>Free</th>\n",
       "      <td>1.0</td>\n",
       "      <td>True</td>\n",
       "      <td>2.191381</td>\n",
       "      <td>0.00000</td>\n",
       "      <td>2.534247</td>\n",
       "      <td>2014.534247</td>\n",
       "      <td>14.711083</td>\n",
       "    </tr>\n",
       "    <tr>\n",
       "      <th>H &amp; B</th>\n",
       "      <td>1.0</td>\n",
       "      <td>True</td>\n",
       "      <td>3.000000</td>\n",
       "      <td>99.99000</td>\n",
       "      <td>2.907216</td>\n",
       "      <td>2014.432990</td>\n",
       "      <td>14.577320</td>\n",
       "    </tr>\n",
       "    <tr>\n",
       "      <th>Premier</th>\n",
       "      <td>1.0</td>\n",
       "      <td>True</td>\n",
       "      <td>4.159091</td>\n",
       "      <td>59.99000</td>\n",
       "      <td>3.060606</td>\n",
       "      <td>2014.537879</td>\n",
       "      <td>14.522727</td>\n",
       "    </tr>\n",
       "  </tbody>\n",
       "</table>\n",
       "</div>"
      ],
      "text/plain": [
       "                   Login_Flag  completed  Session_Count     Price     Month  \\\n",
       "Completed_Product                                                             \n",
       "                          1.0      False       0.919847       NaN  2.646341   \n",
       "Deluxe                    1.0       True       2.265823  34.77125  2.517187   \n",
       "Free                      1.0       True       2.191381   0.00000  2.534247   \n",
       "H & B                     1.0       True       3.000000  99.99000  2.907216   \n",
       "Premier                   1.0       True       4.159091  59.99000  3.060606   \n",
       "\n",
       "                          Year  DayOfMonth  \n",
       "Completed_Product                           \n",
       "                   2014.280488   14.853659  \n",
       "Deluxe             2014.568750   14.371875  \n",
       "Free               2014.534247   14.711083  \n",
       "H & B              2014.432990   14.577320  \n",
       "Premier            2014.537879   14.522727  "
      ]
     },
     "execution_count": 151,
     "metadata": {},
     "output_type": "execute_result"
    }
   ],
   "source": [
    "df1.groupby('Completed_Product').mean()"
   ]
  },
  {
   "cell_type": "code",
   "execution_count": 152,
   "metadata": {},
   "outputs": [
    {
     "data": {
      "text/plain": [
       "0          Paid Search\n",
       "1       Organic Search\n",
       "2       Organic Search\n",
       "3         Non-Campaign\n",
       "4         Non-Campaign\n",
       "5         Non-Campaign\n",
       "6       Organic Search\n",
       "7          Paid Search\n",
       "8       Organic Search\n",
       "9       Organic Search\n",
       "10        Non-Campaign\n",
       "11      Organic Search\n",
       "12          FI Channel\n",
       "13      Organic Search\n",
       "14      Organic Search\n",
       "15           Affiliate\n",
       "16        Non-Campaign\n",
       "17         Paid Search\n",
       "18                  DR\n",
       "19         Paid Search\n",
       "20                  DR\n",
       "21         Paid Search\n",
       "22        Non-Campaign\n",
       "23        Non-Campaign\n",
       "24         Paid Search\n",
       "25         Paid Search\n",
       "26         Paid Search\n",
       "27                  DR\n",
       "28        Non-Campaign\n",
       "29        Non-Campaign\n",
       "             ...      \n",
       "1970       Paid Search\n",
       "1971       Paid Search\n",
       "1972    Organic Search\n",
       "1973      Non-Campaign\n",
       "1974    Organic Search\n",
       "1975      Non-Campaign\n",
       "1976      Non-Campaign\n",
       "1977      Non-Campaign\n",
       "1978                DR\n",
       "1979      Non-Campaign\n",
       "1980      Non-Campaign\n",
       "1981      Non-Campaign\n",
       "1982    Organic Search\n",
       "1983       Paid Search\n",
       "1984      Non-Campaign\n",
       "1985                DR\n",
       "1986                DR\n",
       "1987      Non-Campaign\n",
       "1988           Display\n",
       "1989      Non-Campaign\n",
       "1990                DR\n",
       "1991      Non-Campaign\n",
       "1992      Non-Campaign\n",
       "1993    Organic Search\n",
       "1994       Paid Search\n",
       "1995      Non-Campaign\n",
       "1996    Organic Search\n",
       "1997      Non-Campaign\n",
       "1998       Paid Search\n",
       "1999        FI Channel\n",
       "Name: Marketing_Channel, Length: 2000, dtype: object"
      ]
     },
     "execution_count": 152,
     "metadata": {},
     "output_type": "execute_result"
    }
   ],
   "source": [
    "df1['Marketing_Channel']"
   ]
  },
  {
   "cell_type": "code",
   "execution_count": 153,
   "metadata": {},
   "outputs": [
    {
     "data": {
      "text/plain": [
       "<matplotlib.legend.Legend at 0x1a1fd6d358>"
      ]
     },
     "execution_count": 153,
     "metadata": {},
     "output_type": "execute_result"
    },
    {
     "data": {
      "image/png": "[encoded data removed]",
      "text/plain": [
       "<Figure size 432x288 with 1 Axes>"
      ]
     },
     "metadata": {},
     "output_type": "display_data"
    }
   ],
   "source": [
    "pd.crosstab(df['Marketing_Channel'],df1['completed']).plot(kind='bar')\n",
    "plt.title('Total Completions by Marketing Channel')\n",
    "plt.xlabel('Marketing Channel')\n",
    "plt.ylabel('Total Customers')\n",
    "\n",
    "handles, labels = ax.get_legend_handles_labels()\n",
    "ax.legend(reversed(handles), reversed(labels))"
   ]
  },
  {
   "cell_type": "code",
   "execution_count": 154,
   "metadata": {},
   "outputs": [
    {
     "data": {
      "text/plain": [
       "Text(0, 0.5, 'Proportion of Customers')"
      ]
     },
     "execution_count": 154,
     "metadata": {},
     "output_type": "execute_result"
    },
    {
     "data": {
      "image/png": "[encoded data removed]",
      "text/plain": [
       "<Figure size 432x288 with 1 Axes>"
      ]
     },
     "metadata": {},
     "output_type": "display_data"
    }
   ],
   "source": [
    "table=pd.crosstab(df['Marketing_Channel'],df1['completed'])\n",
    "table.div(table.sum(1).astype(float), axis=0).plot(kind='bar', stacked=True)\n",
    "plt.title('Stacked Bar Chart of Completions by Marketing Channel')\n",
    "plt.xlabel('Marketing Channel')\n",
    "plt.ylabel('Proportion of Customers')"
   ]
  },
  {
   "cell_type": "code",
   "execution_count": 198,
   "metadata": {},
   "outputs": [
    {
     "data": {
      "text/plain": [
       "Text(0, 0.5, 'Proportion of Customers')"
      ]
     },
     "execution_count": 198,
     "metadata": {},
     "output_type": "execute_result"
    },
    {
     "data": {
      "image/png": "[encoded data removed]",
      "text/plain": [
       "<Figure size 432x288 with 1 Axes>"
      ]
     },
     "metadata": {},
     "output_type": "display_data"
    }
   ],
   "source": [
    "table=pd.crosstab(df1['Weekday'],df1['completed'])\n",
    "table.div(table.sum(1).astype(float), axis=0).plot(kind='bar', stacked=True)\n",
    "plt.title('Stacked Bar Chart of Completions by Marketing Channel')\n",
    "plt.xlabel('Marketing Channel')\n",
    "plt.ylabel('Proportion of Customers')"
   ]
  },
  {
   "cell_type": "code",
   "execution_count": 210,
   "metadata": {},
   "outputs": [
    {
     "data": {
      "text/html": [
       "<div>\n",
       "<style scoped>\n",
       "    .dataframe tbody tr th:only-of-type {\n",
       "        vertical-align: middle;\n",
       "    }\n",
       "\n",
       "    .dataframe tbody tr th {\n",
       "        vertical-align: top;\n",
       "    }\n",
       "\n",
       "    .dataframe thead th {\n",
       "        text-align: right;\n",
       "    }\n",
       "</style>\n",
       "<table border=\"1\" class=\"dataframe\">\n",
       "  <thead>\n",
       "    <tr style=\"text-align: right;\">\n",
       "      <th>completed</th>\n",
       "      <th>False</th>\n",
       "      <th>True</th>\n",
       "    </tr>\n",
       "    <tr>\n",
       "      <th>Weekday</th>\n",
       "      <th></th>\n",
       "      <th></th>\n",
       "    </tr>\n",
       "  </thead>\n",
       "  <tbody>\n",
       "    <tr>\n",
       "      <th>Friday</th>\n",
       "      <td>42</td>\n",
       "      <td>199</td>\n",
       "    </tr>\n",
       "    <tr>\n",
       "      <th>Monday</th>\n",
       "      <td>60</td>\n",
       "      <td>248</td>\n",
       "    </tr>\n",
       "    <tr>\n",
       "      <th>Saturday</th>\n",
       "      <td>45</td>\n",
       "      <td>203</td>\n",
       "    </tr>\n",
       "    <tr>\n",
       "      <th>Sunday</th>\n",
       "      <td>44</td>\n",
       "      <td>224</td>\n",
       "    </tr>\n",
       "    <tr>\n",
       "      <th>Thursday</th>\n",
       "      <td>47</td>\n",
       "      <td>223</td>\n",
       "    </tr>\n",
       "    <tr>\n",
       "      <th>Tuesday</th>\n",
       "      <td>51</td>\n",
       "      <td>287</td>\n",
       "    </tr>\n",
       "    <tr>\n",
       "      <th>Wednesday</th>\n",
       "      <td>39</td>\n",
       "      <td>288</td>\n",
       "    </tr>\n",
       "  </tbody>\n",
       "</table>\n",
       "</div>"
      ],
      "text/plain": [
       "completed  False  True \n",
       "Weekday                \n",
       "Friday        42    199\n",
       "Monday        60    248\n",
       "Saturday      45    203\n",
       "Sunday        44    224\n",
       "Thursday      47    223\n",
       "Tuesday       51    287\n",
       "Wednesday     39    288"
      ]
     },
     "execution_count": 210,
     "metadata": {},
     "output_type": "execute_result"
    }
   ],
   "source": [
    "pd.crosstab(df1['Weekday'],df1['completed'])"
   ]
  },
  {
   "cell_type": "code",
   "execution_count": 208,
   "metadata": {},
   "outputs": [
    {
     "ename": "AttributeError",
     "evalue": "'SeriesGroupBy' object has no attribute 'len'",
     "output_type": "error",
     "traceback": [
      "\u001b[0;31m---------------------------------------------------------------------------\u001b[0m",
      "\u001b[0;31mAttributeError\u001b[0m                            Traceback (most recent call last)",
      "\u001b[0;32m<ipython-input-208-7507759a3937>\u001b[0m in \u001b[0;36m<module>\u001b[0;34m\u001b[0m\n\u001b[0;32m----> 1\u001b[0;31m \u001b[0mdf1\u001b[0m\u001b[0;34m.\u001b[0m\u001b[0mgroupby\u001b[0m\u001b[0;34m(\u001b[0m\u001b[0;34m[\u001b[0m\u001b[0;34m'Weekday'\u001b[0m\u001b[0;34m]\u001b[0m\u001b[0;34m)\u001b[0m\u001b[0;34m[\u001b[0m\u001b[0;34m'completed'\u001b[0m\u001b[0;34m]\u001b[0m\u001b[0;34m.\u001b[0m\u001b[0mlen\u001b[0m\u001b[0;34m\u001b[0m\u001b[0;34m\u001b[0m\u001b[0m\n\u001b[0m",
      "\u001b[0;32m/anaconda3/lib/python3.7/site-packages/pandas/core/groupby/groupby.py\u001b[0m in \u001b[0;36m__getattr__\u001b[0;34m(self, attr)\u001b[0m\n\u001b[1;32m    534\u001b[0m \u001b[0;34m\u001b[0m\u001b[0m\n\u001b[1;32m    535\u001b[0m         raise AttributeError(\"%r object has no attribute %r\" %\n\u001b[0;32m--> 536\u001b[0;31m                              (type(self).__name__, attr))\n\u001b[0m\u001b[1;32m    537\u001b[0m \u001b[0;34m\u001b[0m\u001b[0m\n\u001b[1;32m    538\u001b[0m     @Substitution(klass='GroupBy',\n",
      "\u001b[0;31mAttributeError\u001b[0m: 'SeriesGroupBy' object has no attribute 'len'"
     ]
    }
   ],
   "source": [
    "df1.groupby(['Weekday'])['completed'].len"
   ]
  },
  {
   "cell_type": "code",
   "execution_count": 156,
   "metadata": {},
   "outputs": [
    {
     "data": {
      "text/plain": [
       "Text(0, 0.5, 'Frequency')"
      ]
     },
     "execution_count": 156,
     "metadata": {},
     "output_type": "execute_result"
    },
    {
     "data": {
      "image/png": "[encoded data removed]",
      "text/plain": [
       "<Figure size 432x288 with 1 Axes>"
      ]
     },
     "metadata": {},
     "output_type": "display_data"
    }
   ],
   "source": [
    "df1.Price.hist()\n",
    "plt.title('Histogram of Price')\n",
    "plt.xlabel('Price')\n",
    "plt.ylabel('Frequency')"
   ]
  },
  {
   "cell_type": "code",
   "execution_count": 157,
   "metadata": {},
   "outputs": [
    {
     "data": {
      "text/plain": [
       "Index(['Tax Year', 'Login Date', 'Completed_Product', 'Marketing_Channel',\n",
       "       'Login_Flag', 'completed', 'Session_Count', 'Price', 'customer_type',\n",
       "       'Month', 'Year', 'DayOfMonth', 'Weekday'],\n",
       "      dtype='object')"
      ]
     },
     "execution_count": 157,
     "metadata": {},
     "output_type": "execute_result"
    }
   ],
   "source": [
    "df1.columns"
   ]
  },
  {
   "cell_type": "code",
   "execution_count": 95,
   "metadata": {},
   "outputs": [],
   "source": [
    "df_clean = df1"
   ]
  },
  {
   "cell_type": "code",
   "execution_count": 158,
   "metadata": {},
   "outputs": [],
   "source": [
    "cat_vars=['Marketing_Channel', 'Month', 'Weekday']\n",
    "\n",
    "for var in cat_vars:\n",
    "    cat_list = 'var'+'_'+var\n",
    "    cat_list = pd.get_dummies(df1[var], prefix=var)\n",
    "    df_cat = df1.join(cat_list)\n",
    "    df1 = df_cat\n",
    "    \n",
    "data_vars=df_cat.columns.values.tolist()\n"
   ]
  },
  {
   "cell_type": "code",
   "execution_count": 159,
   "metadata": {},
   "outputs": [
    {
     "data": {
      "text/plain": [
       "Index(['Tax Year', 'Login Date', 'Completed_Product', 'Marketing_Channel',\n",
       "       'Login_Flag', 'completed', 'Session_Count', 'Price', 'customer_type',\n",
       "       'Month', 'Year', 'DayOfMonth', 'Weekday', 'Marketing_Channel_Affiliate',\n",
       "       'Marketing_Channel_DR', 'Marketing_Channel_Display',\n",
       "       'Marketing_Channel_FI Channel', 'Marketing_Channel_Internal',\n",
       "       'Marketing_Channel_Non-Campaign', 'Marketing_Channel_Organic Search',\n",
       "       'Marketing_Channel_Other', 'Marketing_Channel_Paid Search', 'Month_1',\n",
       "       'Month_2', 'Month_3', 'Month_4', 'Month_12', 'Weekday_Friday',\n",
       "       'Weekday_Monday', 'Weekday_Saturday', 'Weekday_Sunday',\n",
       "       'Weekday_Thursday', 'Weekday_Tuesday', 'Weekday_Wednesday'],\n",
       "      dtype='object')"
      ]
     },
     "execution_count": 159,
     "metadata": {},
     "output_type": "execute_result"
    }
   ],
   "source": [
    "df_cat.columns"
   ]
  },
  {
   "cell_type": "code",
   "execution_count": 160,
   "metadata": {},
   "outputs": [
    {
     "data": {
      "text/plain": [
       "['Tax Year',\n",
       " 'Login Date',\n",
       " 'Completed_Product',\n",
       " 'Marketing_Channel',\n",
       " 'Login_Flag',\n",
       " 'completed',\n",
       " 'Session_Count',\n",
       " 'Price',\n",
       " 'customer_type',\n",
       " 'Month',\n",
       " 'Year',\n",
       " 'DayOfMonth',\n",
       " 'Weekday',\n",
       " 'Marketing_Channel_Affiliate',\n",
       " 'Marketing_Channel_DR',\n",
       " 'Marketing_Channel_Display',\n",
       " 'Marketing_Channel_FI Channel',\n",
       " 'Marketing_Channel_Internal',\n",
       " 'Marketing_Channel_Non-Campaign',\n",
       " 'Marketing_Channel_Organic Search',\n",
       " 'Marketing_Channel_Other',\n",
       " 'Marketing_Channel_Paid Search',\n",
       " 'Month_1',\n",
       " 'Month_2',\n",
       " 'Month_3',\n",
       " 'Month_4',\n",
       " 'Month_12',\n",
       " 'Weekday_Friday',\n",
       " 'Weekday_Monday',\n",
       " 'Weekday_Saturday',\n",
       " 'Weekday_Sunday',\n",
       " 'Weekday_Thursday',\n",
       " 'Weekday_Tuesday',\n",
       " 'Weekday_Wednesday']"
      ]
     },
     "execution_count": 160,
     "metadata": {},
     "output_type": "execute_result"
    }
   ],
   "source": [
    "data_vars"
   ]
  },
  {
   "cell_type": "code",
   "execution_count": 161,
   "metadata": {},
   "outputs": [],
   "source": [
    "to_keep=[i for i in data_vars if i not in cat_vars]"
   ]
  },
  {
   "cell_type": "code",
   "execution_count": 162,
   "metadata": {},
   "outputs": [
    {
     "data": {
      "text/plain": [
       "Index(['Tax Year', 'Login Date', 'Completed_Product', 'Login_Flag',\n",
       "       'completed', 'Session_Count', 'Price', 'customer_type', 'Year',\n",
       "       'DayOfMonth', 'Marketing_Channel_Affiliate', 'Marketing_Channel_DR',\n",
       "       'Marketing_Channel_Display', 'Marketing_Channel_FI Channel',\n",
       "       'Marketing_Channel_Internal', 'Marketing_Channel_Non-Campaign',\n",
       "       'Marketing_Channel_Organic Search', 'Marketing_Channel_Other',\n",
       "       'Marketing_Channel_Paid Search', 'Month_1', 'Month_2', 'Month_3',\n",
       "       'Month_4', 'Month_12', 'Weekday_Friday', 'Weekday_Monday',\n",
       "       'Weekday_Saturday', 'Weekday_Sunday', 'Weekday_Thursday',\n",
       "       'Weekday_Tuesday', 'Weekday_Wednesday'],\n",
       "      dtype='object')"
      ]
     },
     "execution_count": 162,
     "metadata": {},
     "output_type": "execute_result"
    }
   ],
   "source": [
    "data_final=df_cat[to_keep]\n",
    "data_final.columns"
   ]
  },
  {
   "cell_type": "code",
   "execution_count": 163,
   "metadata": {},
   "outputs": [],
   "source": [
    "data_final = data_final.drop(columns=['Session_Count','Login Date', 'Login_Flag', 'Tax Year', 'Year'])"
   ]
  },
  {
   "cell_type": "code",
   "execution_count": 167,
   "metadata": {},
   "outputs": [],
   "source": [
    "data_final = data_final.drop(columns=[\n",
    "       'Completed_Product', 'customer_type', 'Price'\n",
    "       ])"
   ]
  },
  {
   "cell_type": "code",
   "execution_count": 168,
   "metadata": {},
   "outputs": [
    {
     "data": {
      "text/plain": [
       "Index(['completed', 'DayOfMonth', 'Marketing_Channel_Affiliate',\n",
       "       'Marketing_Channel_DR', 'Marketing_Channel_Display',\n",
       "       'Marketing_Channel_FI Channel', 'Marketing_Channel_Internal',\n",
       "       'Marketing_Channel_Non-Campaign', 'Marketing_Channel_Organic Search',\n",
       "       'Marketing_Channel_Other', 'Marketing_Channel_Paid Search', 'Month_1',\n",
       "       'Month_2', 'Month_3', 'Month_4', 'Month_12', 'Weekday_Friday',\n",
       "       'Weekday_Monday', 'Weekday_Saturday', 'Weekday_Sunday',\n",
       "       'Weekday_Thursday', 'Weekday_Tuesday', 'Weekday_Wednesday'],\n",
       "      dtype='object')"
      ]
     },
     "execution_count": 168,
     "metadata": {},
     "output_type": "execute_result"
    }
   ],
   "source": [
    "data_final.columns"
   ]
  },
  {
   "cell_type": "code",
   "execution_count": 169,
   "metadata": {},
   "outputs": [],
   "source": [
    "data_final = data_final.fillna(0)"
   ]
  },
  {
   "cell_type": "code",
   "execution_count": 170,
   "metadata": {},
   "outputs": [
    {
     "data": {
      "text/plain": [
       "(2000, 23)"
      ]
     },
     "execution_count": 170,
     "metadata": {},
     "output_type": "execute_result"
    }
   ],
   "source": [
    "data_final.shape"
   ]
  },
  {
   "cell_type": "code",
   "execution_count": 171,
   "metadata": {},
   "outputs": [
    {
     "name": "stdout",
     "output_type": "stream",
     "text": [
      "length of oversampled data is  2316\n",
      "Number of no completion in oversampled data 1158\n",
      "Number of completion 1158\n",
      "Proportion of no completion data in oversampled data is  0.5\n",
      "Proportion of completion data in oversampled data is  0.5\n"
     ]
    },
    {
     "name": "stderr",
     "output_type": "stream",
     "text": [
      "/anaconda3/lib/python3.7/site-packages/sklearn/utils/validation.py:724: DataConversionWarning: A column-vector y was passed when a 1d array was expected. Please change the shape of y to (n_samples, ), for example using ravel().\n",
      "  y = column_or_1d(y, warn=True)\n"
     ]
    }
   ],
   "source": [
    "X = data_final.loc[:, data_final.columns != 'completed']\n",
    "y = data_final.loc[:, data_final.columns == 'completed']\n",
    "from imblearn.over_sampling import SMOTE\n",
    "os = SMOTE(random_state=0)\n",
    "X_train, X_test, y_train, y_test = train_test_split(X, y, test_size=0.3, random_state=0)\n",
    "columns = X_train.columns\n",
    "os_data_X,os_data_y=os.fit_sample(X_train, y_train)\n",
    "os_data_X = pd.DataFrame(data=os_data_X,columns=columns )\n",
    "os_data_y= pd.DataFrame(data=os_data_y,columns=['completed'])\n",
    "# we can Check the numbers of our data\n",
    "print(\"length of oversampled data is \",len(os_data_X))\n",
    "print(\"Number of no completion in oversampled data\",len(os_data_y[os_data_y['completed']==0]))\n",
    "print(\"Number of completion\",len(os_data_y[os_data_y['completed']==1]))\n",
    "print(\"Proportion of no completion data in oversampled data is \",len(os_data_y[os_data_y['completed']==0])/len(os_data_X))\n",
    "print(\"Proportion of completion data in oversampled data is \",len(os_data_y[os_data_y['completed']==1])/len(os_data_X))"
   ]
  },
  {
   "cell_type": "code",
   "execution_count": 196,
   "metadata": {},
   "outputs": [
    {
     "name": "stdout",
     "output_type": "stream",
     "text": [
      "[False  True  True  True  True  True  True  True  True  True  True  True\n",
      "  True  True False  True  True  True  True  True  True  True]\n",
      "[3 1 1 1 1 1 1 1 1 1 1 1 1 1 2 1 1 1 1 1 1 1]\n"
     ]
    },
    {
     "name": "stderr",
     "output_type": "stream",
     "text": [
      "/anaconda3/lib/python3.7/site-packages/sklearn/linear_model/logistic.py:432: FutureWarning: Default solver will be changed to 'lbfgs' in 0.22. Specify a solver to silence this warning.\n",
      "  FutureWarning)\n",
      "/anaconda3/lib/python3.7/site-packages/sklearn/linear_model/logistic.py:432: FutureWarning: Default solver will be changed to 'lbfgs' in 0.22. Specify a solver to silence this warning.\n",
      "  FutureWarning)\n",
      "/anaconda3/lib/python3.7/site-packages/sklearn/linear_model/logistic.py:432: FutureWarning: Default solver will be changed to 'lbfgs' in 0.22. Specify a solver to silence this warning.\n",
      "  FutureWarning)\n"
     ]
    }
   ],
   "source": [
    "data_final_vars=data_final.columns.values.tolist()\n",
    "y=['completed']\n",
    "X=[i for i in data_final_vars if i not in y]\n",
    "from sklearn.feature_selection import RFE\n",
    "from sklearn.linear_model import LogisticRegression\n",
    "logreg = LogisticRegression()\n",
    "rfe = RFE(logreg, 20)\n",
    "rfe = rfe.fit(os_data_X, os_data_y.values.ravel())\n",
    "print(rfe.support_)\n",
    "print(rfe.ranking_)"
   ]
  },
  {
   "cell_type": "code",
   "execution_count": null,
   "metadata": {},
   "outputs": [],
   "source": [
    "data_final.columns"
   ]
  },
  {
   "cell_type": "code",
   "execution_count": 178,
   "metadata": {},
   "outputs": [],
   "source": [
    "rfe_results = (zip([False,True,True,True,True,True,True,True,True,True,True,True\n",
    ",True,True,False,True,True,True,True,True,True,True],['DayOfMonth', 'Marketing_Channel_Affiliate',\n",
    "       'Marketing_Channel_DR', 'Marketing_Channel_Display',\n",
    "       'Marketing_Channel_FI Channel', 'Marketing_Channel_Internal',\n",
    "       'Marketing_Channel_Non-Campaign', 'Marketing_Channel_Organic Search',\n",
    "       'Marketing_Channel_Other', 'Marketing_Channel_Paid Search', 'Month_1',\n",
    "       'Month_2', 'Month_3', 'Month_4', 'Month_12', 'Weekday_Friday',\n",
    "       'Weekday_Monday', 'Weekday_Saturday', 'Weekday_Sunday',\n",
    "       'Weekday_Thursday', 'Weekday_Tuesday', 'Weekday_Wednesday']))"
   ]
  },
  {
   "cell_type": "code",
   "execution_count": 179,
   "metadata": {},
   "outputs": [],
   "source": [
    "variables_df = pd.DataFrame(data=rfe_results, columns=['bool','variable'])"
   ]
  },
  {
   "cell_type": "code",
   "execution_count": 180,
   "metadata": {},
   "outputs": [
    {
     "data": {
      "text/html": [
       "<div>\n",
       "<style scoped>\n",
       "    .dataframe tbody tr th:only-of-type {\n",
       "        vertical-align: middle;\n",
       "    }\n",
       "\n",
       "    .dataframe tbody tr th {\n",
       "        vertical-align: top;\n",
       "    }\n",
       "\n",
       "    .dataframe thead th {\n",
       "        text-align: right;\n",
       "    }\n",
       "</style>\n",
       "<table border=\"1\" class=\"dataframe\">\n",
       "  <thead>\n",
       "    <tr style=\"text-align: right;\">\n",
       "      <th></th>\n",
       "      <th>bool</th>\n",
       "      <th>variable</th>\n",
       "    </tr>\n",
       "  </thead>\n",
       "  <tbody>\n",
       "    <tr>\n",
       "      <th>0</th>\n",
       "      <td>False</td>\n",
       "      <td>DayOfMonth</td>\n",
       "    </tr>\n",
       "    <tr>\n",
       "      <th>1</th>\n",
       "      <td>True</td>\n",
       "      <td>Marketing_Channel_Affiliate</td>\n",
       "    </tr>\n",
       "    <tr>\n",
       "      <th>2</th>\n",
       "      <td>True</td>\n",
       "      <td>Marketing_Channel_DR</td>\n",
       "    </tr>\n",
       "    <tr>\n",
       "      <th>3</th>\n",
       "      <td>True</td>\n",
       "      <td>Marketing_Channel_Display</td>\n",
       "    </tr>\n",
       "    <tr>\n",
       "      <th>4</th>\n",
       "      <td>True</td>\n",
       "      <td>Marketing_Channel_FI Channel</td>\n",
       "    </tr>\n",
       "    <tr>\n",
       "      <th>5</th>\n",
       "      <td>True</td>\n",
       "      <td>Marketing_Channel_Internal</td>\n",
       "    </tr>\n",
       "    <tr>\n",
       "      <th>6</th>\n",
       "      <td>True</td>\n",
       "      <td>Marketing_Channel_Non-Campaign</td>\n",
       "    </tr>\n",
       "    <tr>\n",
       "      <th>7</th>\n",
       "      <td>True</td>\n",
       "      <td>Marketing_Channel_Organic Search</td>\n",
       "    </tr>\n",
       "    <tr>\n",
       "      <th>8</th>\n",
       "      <td>True</td>\n",
       "      <td>Marketing_Channel_Other</td>\n",
       "    </tr>\n",
       "    <tr>\n",
       "      <th>9</th>\n",
       "      <td>True</td>\n",
       "      <td>Marketing_Channel_Paid Search</td>\n",
       "    </tr>\n",
       "    <tr>\n",
       "      <th>10</th>\n",
       "      <td>True</td>\n",
       "      <td>Month_1</td>\n",
       "    </tr>\n",
       "    <tr>\n",
       "      <th>11</th>\n",
       "      <td>True</td>\n",
       "      <td>Month_2</td>\n",
       "    </tr>\n",
       "    <tr>\n",
       "      <th>12</th>\n",
       "      <td>True</td>\n",
       "      <td>Month_3</td>\n",
       "    </tr>\n",
       "    <tr>\n",
       "      <th>13</th>\n",
       "      <td>True</td>\n",
       "      <td>Month_4</td>\n",
       "    </tr>\n",
       "    <tr>\n",
       "      <th>14</th>\n",
       "      <td>False</td>\n",
       "      <td>Month_12</td>\n",
       "    </tr>\n",
       "    <tr>\n",
       "      <th>15</th>\n",
       "      <td>True</td>\n",
       "      <td>Weekday_Friday</td>\n",
       "    </tr>\n",
       "    <tr>\n",
       "      <th>16</th>\n",
       "      <td>True</td>\n",
       "      <td>Weekday_Monday</td>\n",
       "    </tr>\n",
       "    <tr>\n",
       "      <th>17</th>\n",
       "      <td>True</td>\n",
       "      <td>Weekday_Saturday</td>\n",
       "    </tr>\n",
       "    <tr>\n",
       "      <th>18</th>\n",
       "      <td>True</td>\n",
       "      <td>Weekday_Sunday</td>\n",
       "    </tr>\n",
       "    <tr>\n",
       "      <th>19</th>\n",
       "      <td>True</td>\n",
       "      <td>Weekday_Thursday</td>\n",
       "    </tr>\n",
       "    <tr>\n",
       "      <th>20</th>\n",
       "      <td>True</td>\n",
       "      <td>Weekday_Tuesday</td>\n",
       "    </tr>\n",
       "    <tr>\n",
       "      <th>21</th>\n",
       "      <td>True</td>\n",
       "      <td>Weekday_Wednesday</td>\n",
       "    </tr>\n",
       "  </tbody>\n",
       "</table>\n",
       "</div>"
      ],
      "text/plain": [
       "     bool                          variable\n",
       "0   False                        DayOfMonth\n",
       "1    True       Marketing_Channel_Affiliate\n",
       "2    True              Marketing_Channel_DR\n",
       "3    True         Marketing_Channel_Display\n",
       "4    True      Marketing_Channel_FI Channel\n",
       "5    True        Marketing_Channel_Internal\n",
       "6    True    Marketing_Channel_Non-Campaign\n",
       "7    True  Marketing_Channel_Organic Search\n",
       "8    True           Marketing_Channel_Other\n",
       "9    True     Marketing_Channel_Paid Search\n",
       "10   True                           Month_1\n",
       "11   True                           Month_2\n",
       "12   True                           Month_3\n",
       "13   True                           Month_4\n",
       "14  False                          Month_12\n",
       "15   True                    Weekday_Friday\n",
       "16   True                    Weekday_Monday\n",
       "17   True                  Weekday_Saturday\n",
       "18   True                    Weekday_Sunday\n",
       "19   True                  Weekday_Thursday\n",
       "20   True                   Weekday_Tuesday\n",
       "21   True                 Weekday_Wednesday"
      ]
     },
     "execution_count": 180,
     "metadata": {},
     "output_type": "execute_result"
    }
   ],
   "source": [
    "variables_df"
   ]
  },
  {
   "cell_type": "code",
   "execution_count": 181,
   "metadata": {},
   "outputs": [
    {
     "data": {
      "text/plain": [
       "['Marketing_Channel_Affiliate',\n",
       " 'Marketing_Channel_DR',\n",
       " 'Marketing_Channel_Display',\n",
       " 'Marketing_Channel_FI Channel',\n",
       " 'Marketing_Channel_Internal',\n",
       " 'Marketing_Channel_Non-Campaign',\n",
       " 'Marketing_Channel_Organic Search',\n",
       " 'Marketing_Channel_Other',\n",
       " 'Marketing_Channel_Paid Search',\n",
       " 'Month_1',\n",
       " 'Month_2',\n",
       " 'Month_3',\n",
       " 'Month_4',\n",
       " 'Weekday_Friday',\n",
       " 'Weekday_Monday',\n",
       " 'Weekday_Saturday',\n",
       " 'Weekday_Sunday',\n",
       " 'Weekday_Thursday',\n",
       " 'Weekday_Tuesday',\n",
       " 'Weekday_Wednesday']"
      ]
     },
     "execution_count": 181,
     "metadata": {},
     "output_type": "execute_result"
    }
   ],
   "source": [
    "list(variables_df.loc[variables_df['bool'] == True, 'variable'])"
   ]
  },
  {
   "cell_type": "code",
   "execution_count": 182,
   "metadata": {},
   "outputs": [],
   "source": [
    "cols=['Marketing_Channel_Affiliate',\n",
    " 'Marketing_Channel_DR',\n",
    " 'Marketing_Channel_Display',\n",
    " 'Marketing_Channel_FI Channel',\n",
    " 'Marketing_Channel_Internal',\n",
    " 'Marketing_Channel_Non-Campaign',\n",
    " 'Marketing_Channel_Organic Search',\n",
    " 'Marketing_Channel_Other',\n",
    " 'Marketing_Channel_Paid Search',\n",
    " 'Month_1',\n",
    " 'Month_2',\n",
    " 'Month_3',\n",
    " 'Month_4',\n",
    " 'Weekday_Friday',\n",
    " 'Weekday_Monday',\n",
    " 'Weekday_Saturday',\n",
    " 'Weekday_Sunday',\n",
    " 'Weekday_Thursday',\n",
    " 'Weekday_Tuesday',\n",
    " 'Weekday_Wednesday']\n"
   ]
  },
  {
   "cell_type": "code",
   "execution_count": 183,
   "metadata": {},
   "outputs": [],
   "source": [
    "\n",
    "X=os_data_X[cols]\n",
    "y=os_data_y['completed']"
   ]
  },
  {
   "cell_type": "code",
   "execution_count": 184,
   "metadata": {},
   "outputs": [
    {
     "name": "stdout",
     "output_type": "stream",
     "text": [
      "Warning: Maximum number of iterations has been exceeded.\n",
      "         Current function value: 0.615078\n",
      "         Iterations: 35\n",
      "                                       Results: Logit\n",
      "============================================================================================\n",
      "Model:                       Logit                     Pseudo R-squared:          0.113     \n",
      "Dependent Variable:          completed                 AIC:                       2889.0426 \n",
      "Date:                        2019-07-25 07:58          BIC:                       3003.9946 \n",
      "No. Observations:            2316                      Log-Likelihood:            -1424.5   \n",
      "Df Model:                    19                        LL-Null:                   -1605.3   \n",
      "Df Residuals:                2296                      LLR p-value:               4.0438e-65\n",
      "Converged:                   0.0000                    Scale:                     1.0000    \n",
      "No. Iterations:              35.0000                                                        \n",
      "--------------------------------------------------------------------------------------------\n",
      "                                  Coef.    Std.Err.     z    P>|z|     [0.025       0.975]  \n",
      "--------------------------------------------------------------------------------------------\n",
      "Marketing_Channel_Affiliate       1.7778      0.3321  5.3533 0.0000       1.1269      2.4287\n",
      "Marketing_Channel_DR              1.1723      0.1556  7.5360 0.0000       0.8674      1.4772\n",
      "Marketing_Channel_Display         2.7252      0.7605  3.5836 0.0003       1.2347      4.2156\n",
      "Marketing_Channel_FI Channel      3.5237      0.6027  5.8469 0.0000       2.3425      4.7048\n",
      "Marketing_Channel_Internal       25.7752 331225.1508  0.0001 0.9999 -649163.5912 649215.1416\n",
      "Marketing_Channel_Non-Campaign    0.4946      0.1160  4.2638 0.0000       0.2672      0.7219\n",
      "Marketing_Channel_Organic Search  1.3175      0.1457  9.0439 0.0000       1.0320      1.6030\n",
      "Marketing_Channel_Other           0.6934      0.8269  0.8386 0.4017      -0.9272      2.3140\n",
      "Marketing_Channel_Paid Search     1.4008      0.1361 10.2948 0.0000       1.1341      1.6674\n",
      "Month_1                          -1.0625      0.1903 -5.5822 0.0000      -1.4356     -0.6895\n",
      "Month_2                          -0.9222      0.1461 -6.3135 0.0000      -1.2085     -0.6359\n",
      "Month_3                          -0.5674      0.1610 -3.5248 0.0004      -0.8828     -0.2519\n",
      "Month_4                          -1.2783      0.1551 -8.2440 0.0000      -1.5822     -0.9744\n",
      "Weekday_Friday                    0.4019      0.1834  2.1907 0.0285       0.0423      0.7614\n",
      "Weekday_Monday                    0.2137      0.1685  1.2683 0.2047      -0.1165      0.5440\n",
      "Weekday_Saturday                  0.3024      0.1834  1.6487 0.0992      -0.0571      0.6618\n",
      "Weekday_Sunday                    0.1971      0.1747  1.1282 0.2592      -0.1453      0.5395\n",
      "Weekday_Thursday                  0.0502      0.1658  0.3028 0.7620      -0.2747      0.3751\n",
      "Weekday_Tuesday                   0.5680      0.1642  3.4601 0.0005       0.2463      0.8898\n",
      "Weekday_Wednesday                 0.8822      0.1795  4.9148 0.0000       0.5304      1.2341\n",
      "============================================================================================\n",
      "\n"
     ]
    },
    {
     "name": "stderr",
     "output_type": "stream",
     "text": [
      "/anaconda3/lib/python3.7/site-packages/statsmodels/base/model.py:508: ConvergenceWarning: Maximum Likelihood optimization failed to converge. Check mle_retvals\n",
      "  \"Check mle_retvals\", ConvergenceWarning)\n"
     ]
    }
   ],
   "source": [
    "import statsmodels.api as sm\n",
    "logit_model=sm.Logit(y,X)\n",
    "result=logit_model.fit()\n",
    "print(result.summary2())"
   ]
  },
  {
   "cell_type": "code",
   "execution_count": 186,
   "metadata": {},
   "outputs": [
    {
     "name": "stdout",
     "output_type": "stream",
     "text": [
      "Optimization terminated successfully.\n",
      "         Current function value: 0.616458\n",
      "         Iterations 7\n",
      "                                 Results: Logit\n",
      "================================================================================\n",
      "Model:                   Logit                 Pseudo R-squared:      0.111     \n",
      "Dependent Variable:      completed             AIC:                   2883.4349 \n",
      "Date:                    2019-07-25 08:01      BIC:                   2963.9013 \n",
      "No. Observations:        2316                  Log-Likelihood:        -1427.7   \n",
      "Df Model:                13                    LL-Null:               -1605.3   \n",
      "Df Residuals:            2302                  LLR p-value:           6.1773e-68\n",
      "Converged:               1.0000                Scale:                 1.0000    \n",
      "No. Iterations:          7.0000                                                 \n",
      "--------------------------------------------------------------------------------\n",
      "                                  Coef.  Std.Err.    z    P>|z|   [0.025  0.975]\n",
      "--------------------------------------------------------------------------------\n",
      "Marketing_Channel_Affiliate       1.8212   0.3308  5.5058 0.0000  1.1729  2.4696\n",
      "Marketing_Channel_DR              1.1778   0.1538  7.6607 0.0000  0.8765  1.4792\n",
      "Marketing_Channel_Display         2.7820   0.7602  3.6595 0.0003  1.2920  4.2720\n",
      "Marketing_Channel_FI Channel      3.5333   0.6014  5.8751 0.0000  2.3546  4.7121\n",
      "Marketing_Channel_Non-Campaign    0.4979   0.1141  4.3646 0.0000  0.2743  0.7215\n",
      "Marketing_Channel_Organic Search  1.3326   0.1437  9.2736 0.0000  1.0510  1.6143\n",
      "Marketing_Channel_Paid Search     1.4187   0.1338 10.6032 0.0000  1.1564  1.6809\n",
      "Month_1                          -0.9308   0.1669 -5.5777 0.0000 -1.2578 -0.6037\n",
      "Month_2                          -0.7812   0.1115 -7.0073 0.0000 -0.9997 -0.5627\n",
      "Month_3                          -0.4312   0.1344 -3.2075 0.0013 -0.6946 -0.1677\n",
      "Month_4                          -1.1317   0.1238 -9.1411 0.0000 -1.3743 -0.8890\n",
      "Weekday_Friday                    0.2569   0.1512  1.6986 0.0894 -0.0395  0.5533\n",
      "Weekday_Tuesday                   0.4459   0.1316  3.3897 0.0007  0.1881  0.7038\n",
      "Weekday_Wednesday                 0.7407   0.1473  5.0278 0.0000  0.4520  1.0295\n",
      "================================================================================\n",
      "\n"
     ]
    }
   ],
   "source": [
    "cols=['Marketing_Channel_Affiliate',\n",
    " 'Marketing_Channel_DR',\n",
    " 'Marketing_Channel_Display',\n",
    " 'Marketing_Channel_FI Channel',\n",
    " 'Marketing_Channel_Non-Campaign',\n",
    " 'Marketing_Channel_Organic Search',\n",
    " 'Marketing_Channel_Paid Search',\n",
    " 'Month_1',\n",
    " 'Month_2',\n",
    " 'Month_3',\n",
    " 'Month_4',\n",
    " 'Weekday_Friday',\n",
    " 'Weekday_Tuesday',\n",
    " 'Weekday_Wednesday']\n",
    "X=os_data_X[cols]\n",
    "\n",
    "logit_model=sm.Logit(y,X)\n",
    "result=logit_model.fit()\n",
    "print(result.summary2())"
   ]
  },
  {
   "cell_type": "code",
   "execution_count": 187,
   "metadata": {},
   "outputs": [
    {
     "name": "stdout",
     "output_type": "stream",
     "text": [
      "Optimization terminated successfully.\n",
      "         Current function value: 0.617086\n",
      "         Iterations 7\n",
      "                                 Results: Logit\n",
      "================================================================================\n",
      "Model:                   Logit                 Pseudo R-squared:      0.110     \n",
      "Dependent Variable:      completed             AIC:                   2884.3409 \n",
      "Date:                    2019-07-25 08:01      BIC:                   2959.0597 \n",
      "No. Observations:        2316                  Log-Likelihood:        -1429.2   \n",
      "Df Model:                12                    LL-Null:               -1605.3   \n",
      "Df Residuals:            2303                  LLR p-value:           4.5514e-68\n",
      "Converged:               1.0000                Scale:                 1.0000    \n",
      "No. Iterations:          7.0000                                                 \n",
      "--------------------------------------------------------------------------------\n",
      "                                  Coef.  Std.Err.    z    P>|z|   [0.025  0.975]\n",
      "--------------------------------------------------------------------------------\n",
      "Marketing_Channel_Affiliate       1.8121   0.3309  5.4770 0.0000  1.1636  2.4606\n",
      "Marketing_Channel_DR              1.1801   0.1537  7.6795 0.0000  0.8789  1.4813\n",
      "Marketing_Channel_Display         2.7538   0.7598  3.6246 0.0003  1.2647  4.2429\n",
      "Marketing_Channel_FI Channel      3.5080   0.6012  5.8353 0.0000  2.3297  4.6863\n",
      "Marketing_Channel_Non-Campaign    0.4954   0.1140  4.3466 0.0000  0.2720  0.7188\n",
      "Marketing_Channel_Organic Search  1.3477   0.1435  9.3940 0.0000  1.0665  1.6288\n",
      "Marketing_Channel_Paid Search     1.4155   0.1337 10.5886 0.0000  1.1535  1.6775\n",
      "Month_1                          -0.8443   0.1593 -5.3015 0.0000 -1.1565 -0.5322\n",
      "Month_2                          -0.7463   0.1094 -6.8224 0.0000 -0.9607 -0.5319\n",
      "Month_3                          -0.3966   0.1327 -2.9894 0.0028 -0.6567 -0.1366\n",
      "Month_4                          -1.0988   0.1222 -8.9922 0.0000 -1.3383 -0.8593\n",
      "Weekday_Tuesday                   0.4106   0.1299  3.1606 0.0016  0.1560  0.6652\n",
      "Weekday_Wednesday                 0.7029   0.1457  4.8258 0.0000  0.4174  0.9884\n",
      "================================================================================\n",
      "\n"
     ]
    }
   ],
   "source": [
    "cols=['Marketing_Channel_Affiliate',\n",
    " 'Marketing_Channel_DR',\n",
    " 'Marketing_Channel_Display',\n",
    " 'Marketing_Channel_FI Channel',\n",
    " 'Marketing_Channel_Non-Campaign',\n",
    " 'Marketing_Channel_Organic Search',\n",
    " 'Marketing_Channel_Paid Search',\n",
    " 'Month_1',\n",
    " 'Month_2',\n",
    " 'Month_3',\n",
    " 'Month_4',\n",
    " 'Weekday_Tuesday',\n",
    " 'Weekday_Wednesday']\n",
    "X=os_data_X[cols]\n",
    "\n",
    "logit_model=sm.Logit(y,X)\n",
    "result=logit_model.fit()\n",
    "print(result.summary2())"
   ]
  },
  {
   "cell_type": "code",
   "execution_count": 188,
   "metadata": {},
   "outputs": [
    {
     "name": "stderr",
     "output_type": "stream",
     "text": [
      "/anaconda3/lib/python3.7/site-packages/sklearn/linear_model/logistic.py:432: FutureWarning: Default solver will be changed to 'lbfgs' in 0.22. Specify a solver to silence this warning.\n",
      "  FutureWarning)\n"
     ]
    },
    {
     "data": {
      "text/plain": [
       "LogisticRegression(C=1.0, class_weight=None, dual=False, fit_intercept=True,\n",
       "                   intercept_scaling=1, l1_ratio=None, max_iter=100,\n",
       "                   multi_class='warn', n_jobs=None, penalty='l2',\n",
       "                   random_state=None, solver='warn', tol=0.0001, verbose=0,\n",
       "                   warm_start=False)"
      ]
     },
     "execution_count": 188,
     "metadata": {},
     "output_type": "execute_result"
    }
   ],
   "source": [
    "from sklearn.linear_model import LogisticRegression\n",
    "from sklearn import metrics\n",
    "X_train, X_test, y_train, y_test = train_test_split(X, y, test_size=0.3, random_state=0)\n",
    "logreg = LogisticRegression()\n",
    "logreg.fit(X_train, y_train)"
   ]
  },
  {
   "cell_type": "code",
   "execution_count": 189,
   "metadata": {},
   "outputs": [
    {
     "name": "stdout",
     "output_type": "stream",
     "text": [
      "Accuracy of logistic regression classifier on test set: 0.80\n"
     ]
    }
   ],
   "source": [
    "y_pred = logreg.predict(X_test)\n",
    "print('Accuracy of logistic regression classifier on test set: {:.2f}'.format(logreg.score(X_test, y_test)))"
   ]
  },
  {
   "cell_type": "code",
   "execution_count": 190,
   "metadata": {},
   "outputs": [
    {
     "name": "stdout",
     "output_type": "stream",
     "text": [
      "[[247  95]\n",
      " [ 45 308]]\n"
     ]
    }
   ],
   "source": [
    "from sklearn.metrics import confusion_matrix\n",
    "confusion_matrix = confusion_matrix(y_test, y_pred)\n",
    "print(confusion_matrix)"
   ]
  },
  {
   "cell_type": "code",
   "execution_count": 191,
   "metadata": {},
   "outputs": [
    {
     "data": {
      "text/plain": [
       "555"
      ]
     },
     "execution_count": 191,
     "metadata": {},
     "output_type": "execute_result"
    }
   ],
   "source": [
    "247+308"
   ]
  },
  {
   "cell_type": "code",
   "execution_count": 192,
   "metadata": {},
   "outputs": [
    {
     "data": {
      "text/plain": [
       "140"
      ]
     },
     "execution_count": 192,
     "metadata": {},
     "output_type": "execute_result"
    }
   ],
   "source": [
    "95+45"
   ]
  },
  {
   "cell_type": "code",
   "execution_count": 193,
   "metadata": {},
   "outputs": [
    {
     "data": {
      "text/plain": [
       "0.7985611510791367"
      ]
     },
     "execution_count": 193,
     "metadata": {},
     "output_type": "execute_result"
    }
   ],
   "source": [
    "555/(555+140)"
   ]
  },
  {
   "cell_type": "code",
   "execution_count": 194,
   "metadata": {},
   "outputs": [
    {
     "name": "stdout",
     "output_type": "stream",
     "text": [
      "              precision    recall  f1-score   support\n",
      "\n",
      "       False       0.85      0.72      0.78       342\n",
      "        True       0.76      0.87      0.81       353\n",
      "\n",
      "    accuracy                           0.80       695\n",
      "   macro avg       0.81      0.80      0.80       695\n",
      "weighted avg       0.80      0.80      0.80       695\n",
      "\n"
     ]
    }
   ],
   "source": [
    "from sklearn.metrics import classification_report\n",
    "print(classification_report(y_test, y_pred))"
   ]
  },
  {
   "cell_type": "code",
   "execution_count": 195,
   "metadata": {},
   "outputs": [
    {
     "data": {
      "image/png": "[encoded data removed]",
      "text/plain": [
       "<Figure size 432x288 with 1 Axes>"
      ]
     },
     "metadata": {},
     "output_type": "display_data"
    }
   ],
   "source": [
    "from sklearn.metrics import roc_auc_score\n",
    "from sklearn.metrics import roc_curve\n",
    "logit_roc_auc = roc_auc_score(y_test, logreg.predict(X_test))\n",
    "fpr, tpr, thresholds = roc_curve(y_test, logreg.predict_proba(X_test)[:,1])\n",
    "plt.figure()\n",
    "plt.plot(fpr, tpr, label='Logistic Regression (area = %0.2f)' % logit_roc_auc)\n",
    "plt.plot([0, 1], [0, 1],'r--')\n",
    "plt.xlim([0.0, 1.0])\n",
    "plt.ylim([0.0, 1.05])\n",
    "plt.xlabel('False Positive Rate')\n",
    "plt.ylabel('True Positive Rate')\n",
    "plt.title('Receiver operating characteristic')\n",
    "plt.legend(loc=\"lower right\")\n",
    "plt.savefig('Log_ROC')\n",
    "plt.show()"
   ]
  },
  {
   "cell_type": "code",
   "execution_count": 32,
   "metadata": {},
   "outputs": [
    {
     "data": {
      "text/plain": [
       "Index(['Tax Year', 'Login Date', 'Completed_Product', 'Marketing_Channel',\n",
       "       'Login_Flag', 'completed', 'Session_Count', 'Price', 'customer_type',\n",
       "       'Month', 'Year', 'DayOfMonth', 'Weekday'],\n",
       "      dtype='object')"
      ]
     },
     "execution_count": 32,
     "metadata": {},
     "output_type": "execute_result"
    }
   ],
   "source": [
    "df_clean.columns"
   ]
  },
  {
   "cell_type": "code",
   "execution_count": 31,
   "metadata": {},
   "outputs": [],
   "source": [
    "df3 = df_clean"
   ]
  },
  {
   "cell_type": "code",
   "execution_count": 33,
   "metadata": {},
   "outputs": [],
   "source": [
    "cat_vars1 =['Tax Year', 'Completed_Product', 'customer_type', 'Marketing_Channel', 'Month', 'Weekday']\n",
    "\n",
    "for var in cat_vars1:\n",
    "    cat_list = 'var'+'_'+var\n",
    "    cat_list = pd.get_dummies(df1[var], prefix=var)\n",
    "    df_corr = df3.join(cat_list)\n",
    "    df3 = df_corr\n",
    "# df2=df_corr.columns.values.tolist()"
   ]
  },
  {
   "cell_type": "code",
   "execution_count": 34,
   "metadata": {},
   "outputs": [
    {
     "data": {
      "text/plain": [
       "Index(['Tax Year', 'Login Date', 'Completed_Product', 'Marketing_Channel',\n",
       "       'Login_Flag', 'completed', 'Session_Count', 'Price', 'customer_type',\n",
       "       'Month', 'Year', 'DayOfMonth', 'Weekday', 'Tax Year_TY13',\n",
       "       'Tax Year_TY14', 'Completed_Product_', 'Completed_Product_Deluxe',\n",
       "       'Completed_Product_Free', 'Completed_Product_H & B',\n",
       "       'Completed_Product_Premier', 'customer_type_Incomplete',\n",
       "       'customer_type_New', 'customer_type_Veteran',\n",
       "       'Marketing_Channel_Affiliate', 'Marketing_Channel_DR',\n",
       "       'Marketing_Channel_Display', 'Marketing_Channel_FI Channel',\n",
       "       'Marketing_Channel_Internal', 'Marketing_Channel_Non-Campaign',\n",
       "       'Marketing_Channel_Organic Search', 'Marketing_Channel_Other',\n",
       "       'Marketing_Channel_Paid Search', 'Month_1', 'Month_2', 'Month_3',\n",
       "       'Month_4', 'Month_12', 'Weekday_Friday', 'Weekday_Monday',\n",
       "       'Weekday_Saturday', 'Weekday_Sunday', 'Weekday_Thursday',\n",
       "       'Weekday_Tuesday', 'Weekday_Wednesday'],\n",
       "      dtype='object')"
      ]
     },
     "execution_count": 34,
     "metadata": {},
     "output_type": "execute_result"
    }
   ],
   "source": [
    "df3.columns"
   ]
  },
  {
   "cell_type": "code",
   "execution_count": 38,
   "metadata": {},
   "outputs": [
    {
     "data": {
      "text/plain": [
       "Index(['Tax Year', 'Login Date', 'Completed_Product', 'Marketing_Channel',\n",
       "       'Login_Flag', 'completed', 'Session_Count', 'Price', 'customer_type',\n",
       "       'Month', 'Year', 'DayOfMonth', 'Weekday', 'Tax Year_TY13',\n",
       "       'Tax Year_TY14', 'Completed_Product_', 'Completed_Product_Deluxe',\n",
       "       'Completed_Product_Free', 'Completed_Product_H & B',\n",
       "       'Completed_Product_Premier', 'customer_type_Incomplete',\n",
       "       'customer_type_New', 'customer_type_Veteran',\n",
       "       'Marketing_Channel_Affiliate', 'Marketing_Channel_DR',\n",
       "       'Marketing_Channel_Display', 'Marketing_Channel_FI Channel',\n",
       "       'Marketing_Channel_Internal', 'Marketing_Channel_Non-Campaign',\n",
       "       'Marketing_Channel_Organic Search', 'Marketing_Channel_Other',\n",
       "       'Marketing_Channel_Paid Search', 'Month_1', 'Month_2', 'Month_3',\n",
       "       'Month_4', 'Month_12', 'Weekday_Friday', 'Weekday_Monday',\n",
       "       'Weekday_Saturday', 'Weekday_Sunday', 'Weekday_Thursday',\n",
       "       'Weekday_Tuesday', 'Weekday_Wednesday'],\n",
       "      dtype='object')"
      ]
     },
     "execution_count": 38,
     "metadata": {},
     "output_type": "execute_result"
    }
   ],
   "source": [
    "df3.columns"
   ]
  },
  {
   "cell_type": "code",
   "execution_count": 39,
   "metadata": {},
   "outputs": [],
   "source": [
    "data_vars1=df3.columns.values.tolist()\n",
    "to_keep=[i for i in data_vars1 if i not in cat_vars1]"
   ]
  },
  {
   "cell_type": "code",
   "execution_count": 45,
   "metadata": {},
   "outputs": [
    {
     "data": {
      "text/plain": [
       "Index(['Login Date', 'Login_Flag', 'completed', 'Session_Count', 'Price',\n",
       "       'Year', 'DayOfMonth', 'Tax Year_TY13', 'Tax Year_TY14',\n",
       "       'Completed_Product_', 'Completed_Product_Deluxe',\n",
       "       'Completed_Product_Free', 'Completed_Product_H & B',\n",
       "       'Completed_Product_Premier', 'customer_type_Incomplete',\n",
       "       'customer_type_New', 'customer_type_Veteran',\n",
       "       'Marketing_Channel_Affiliate', 'Marketing_Channel_DR',\n",
       "       'Marketing_Channel_Display', 'Marketing_Channel_FI Channel',\n",
       "       'Marketing_Channel_Internal', 'Marketing_Channel_Non-Campaign',\n",
       "       'Marketing_Channel_Organic Search', 'Marketing_Channel_Other',\n",
       "       'Marketing_Channel_Paid Search', 'Month_1', 'Month_2', 'Month_3',\n",
       "       'Month_4', 'Month_12', 'Weekday_Friday', 'Weekday_Monday',\n",
       "       'Weekday_Saturday', 'Weekday_Sunday', 'Weekday_Thursday',\n",
       "       'Weekday_Tuesday', 'Weekday_Wednesday'],\n",
       "      dtype='object')"
      ]
     },
     "execution_count": 45,
     "metadata": {},
     "output_type": "execute_result"
    }
   ],
   "source": [
    "df3 = df3[to_keep]\n",
    "df3.columns"
   ]
  },
  {
   "cell_type": "code",
   "execution_count": 49,
   "metadata": {},
   "outputs": [],
   "source": [
    "df3 = df3.drop(columns=['Login Date'])"
   ]
  },
  {
   "cell_type": "code",
   "execution_count": 50,
   "metadata": {},
   "outputs": [],
   "source": [
    "corr_values = df3.values"
   ]
  },
  {
   "cell_type": "code",
   "execution_count": null,
   "metadata": {},
   "outputs": [],
   "source": [
    "import numpy as np\n",
    "import pandas as pd\n",
    "\n",
    "marketing_channel = df['Marketing_Channel'].unique()\n",
    "month = []\n",
    "smoker = ['yes','no']\n",
    "\n",
    "data = np.repeat(np.stack(np.meshgrid(time, sex, smoker), -1).reshape(-1,3), 10, axis=0)\n",
    "df = pd.DataFrame(data, columns=[\"time\",\"sex\",\"smoker\"])\n",
    "df[\"total_bill\"] = np.random.rand(len(df))*10"
   ]
  }
 ],
 "metadata": {
  "kernelspec": {
   "display_name": "Python 3",
   "language": "python",
   "name": "python3"
  },
  "language_info": {
   "codemirror_mode": {
    "name": "ipython",
    "version": 3
   },
   "file_extension": ".py",
   "mimetype": "text/x-python",
   "name": "python",
   "nbconvert_exporter": "python",
   "pygments_lexer": "ipython3",
   "version": "3.7.3"
  }
 },
 "nbformat": 4,
 "nbformat_minor": 2
}
